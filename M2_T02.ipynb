{
 "cells": [
  {
   "cell_type": "code",
   "execution_count": 64,
   "id": "d992c901",
   "metadata": {},
   "outputs": [
    {
     "name": "stdout",
     "output_type": "stream",
     "text": [
      " Quina nota has tingut ? 8\n",
      " Notable\n"
     ]
    }
   ],
   "source": [
    "#Ex1\n",
    "\n",
    "x = int(input(\" Quina nota has tingut ? \"))\n",
    "\n",
    "if x >= 9:\n",
    "            print(\" Excel.lent\") \n",
    "elif 9 > x and x >= 7:\n",
    "            print(\" Notable\")\n",
    "elif 7 > x and x >= 5:\n",
    "            print(\" Aprovat\")\n",
    "elif  x < 5:\n",
    "            print(\"Suspès\")\n"
   ]
  },
  {
   "cell_type": "code",
   "execution_count": 65,
   "id": "94b5e3d6",
   "metadata": {},
   "outputs": [
    {
     "name": "stdout",
     "output_type": "stream",
     "text": [
      "Dona´m un numero : 4\n",
      "Dona´m un altre numero : 4\n",
      "Son iguals\n"
     ]
    }
   ],
   "source": [
    "# EX 2 \n",
    "\n",
    "#Crea una funció que et demani dos numeros i que et digui si son iguals, inferiors o superior \n",
    "\n",
    " \n",
    "x = int(input(\"Dona´m un numero : \")) \n",
    "y = int(input(\"Dona´m un altre numero : \"))\n",
    "\n",
    "\n",
    "\n",
    "if x > y :\n",
    "        print (\"El primer numero és més gran\")\n",
    "        \n",
    "elif x == y :\n",
    "        print ( \"Son iguals\")\n",
    "        \n",
    "else:\n",
    "        print (\"El segon és més gran\")\n",
    "\n",
    "\n"
   ]
  },
  {
   "cell_type": "code",
   "execution_count": 83,
   "id": "e15449ed",
   "metadata": {},
   "outputs": [
    {
     "name": "stdout",
     "output_type": "stream",
     "text": [
      "Quin és el teu nom ? :pol\n",
      "Dona´m un numero :4\n",
      "polpolpolpol\n"
     ]
    }
   ],
   "source": [
    "# EX3\n",
    "\n",
    "# Crea una funció que et pregunti el teu nom i un numero-\n",
    "# SI el numero és \"0\" hauria de mostrar un missatge error.\n",
    "# Si no hauria de mostrar el nom repetit pel numero \n",
    "\n",
    "x = input(\"Quin és el teu nom ? :\")\n",
    "\n",
    "y = int(input(\"Dona´m un numero :\"))\n",
    "\n",
    "    \n",
    "if y == 0 : \n",
    "    print(\" Tens un error\")\n",
    "    \n",
    "else : print (x*y);\n",
    "    \n",
    "\n"
   ]
  },
  {
   "cell_type": "code",
   "execution_count": 78,
   "id": "5e4c08a9",
   "metadata": {},
   "outputs": [
    {
     "name": "stdout",
     "output_type": "stream",
     "text": [
      " Es simètrica fins a la posició 0\n",
      " Es simètrica fins a la posició 1\n",
      " Es simètrica fins a la posició 2\n",
      " Es simètrica fins a la posició 3\n",
      " No es simètrica \n"
     ]
    }
   ],
   "source": [
    " #Ex4 Crea una funció per determinar si una llista es simètrica\n",
    "    \n",
    "    \n",
    "import numpy as np\n",
    "\n",
    "list_1 = np.random.randint(1,9,7)\n",
    "    \n",
    "list =[1,2,3,4,5,3,3,2,1]                \n",
    "i = 0\n",
    "\n",
    "while True:\n",
    "    \n",
    "    print(\" Es simètrica fins a la posició \" + str(i))\n",
    "    \n",
    "\n",
    "    if list[i] != list[(len(list)-(i+1))] :\n",
    "            \n",
    "            break\n",
    "            \n",
    "    i = i+1   \n",
    "        \n",
    "print(\" No es simètrica \")\n",
    "    \n",
    "                    "
   ]
  },
  {
   "cell_type": "code",
   "execution_count": 72,
   "id": "201f3a9d",
   "metadata": {},
   "outputs": [
    {
     "name": "stdout",
     "output_type": "stream",
     "text": [
      "Coincideix el 2 a la posició 2\n",
      "Coincideix el 6 a la posició 6\n"
     ]
    }
   ],
   "source": [
    "# Ex5 Crea una funció que donada una llista, et digui quants números coincideixen amb la seva posició. Per exemple [3,4,2,0,2,3,6] el 2 i el 6 coincideixen.\n",
    "import numpy as np\n",
    "\n",
    "#list = np.random.randint(1,9,12)\n",
    "#print(list)\n",
    "\n",
    "list = [3,4,2,0,2,3,6]\n",
    "\n",
    "def posició(list, i):\n",
    "    for i in range (len(list)):\n",
    "        if list [i] != i :\n",
    "            continue\n",
    "        print(('Coincideix el ') + str(list[(i)]) + \" a la posició \"+str(i))\n",
    "    \n",
    "        \n",
    "posició(list,i)"
   ]
  },
  {
   "cell_type": "code",
   "execution_count": null,
   "id": "09dd14d7",
   "metadata": {},
   "outputs": [],
   "source": []
  }
 ],
 "metadata": {
  "kernelspec": {
   "display_name": "Python 3 (ipykernel)",
   "language": "python",
   "name": "python3"
  },
  "language_info": {
   "codemirror_mode": {
    "name": "ipython",
    "version": 3
   },
   "file_extension": ".py",
   "mimetype": "text/x-python",
   "name": "python",
   "nbconvert_exporter": "python",
   "pygments_lexer": "ipython3",
   "version": "3.10.9"
  }
 },
 "nbformat": 4,
 "nbformat_minor": 5
}
